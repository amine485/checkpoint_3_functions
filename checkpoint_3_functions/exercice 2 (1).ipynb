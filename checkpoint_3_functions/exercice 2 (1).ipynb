{
 "cells": [
  {
   "cell_type": "code",
   "execution_count": null,
   "id": "fae16ecb",
   "metadata": {},
   "outputs": [],
   "source": [
    "def calculations(a, b):\n",
    "    add = a+b\n",
    "    sub = a-b\n",
    "    return add, sub\n",
    "\n",
    "\n",
    "print(calculations(40, 10))\n"
   ]
  }
 ],
 "metadata": {
  "kernelspec": {
   "display_name": "Python 3",
   "language": "python",
   "name": "python3"
  },
  "language_info": {
   "codemirror_mode": {
    "name": "ipython",
    "version": 3
   },
   "file_extension": ".py",
   "mimetype": "text/x-python",
   "name": "python",
   "nbconvert_exporter": "python",
   "pygments_lexer": "ipython3",
   "version": "3.8.8"
  }
 },
 "nbformat": 4,
 "nbformat_minor": 5
}
