{
 "cells": [
  {
   "cell_type": "code",
   "execution_count": 9,
   "id": "12556980",
   "metadata": {},
   "outputs": [
    {
     "name": "stdout",
     "output_type": "stream",
     "text": [
      "(4, 8)\n"
     ]
    }
   ],
   "source": [
    "def sum(list1):\n",
    "    result = 0\n",
    "    for i in range(len(list1)):\n",
    "        result += list1[i]\n",
    "    return result\n",
    "\n",
    "\n",
    "def mlp(list2):\n",
    "    result = 1\n",
    "    for i in range(len(list2)):\n",
    "        result *= list2[i]\n",
    "    return result\n",
    "\n",
    "def result(list) :\n",
    "    list3 = []\n",
    "    list4 = []\n",
    "    for i in range (len(list)):\n",
    "        if i % 2 == 0:\n",
    "            list3.append(list[i])\n",
    "        elif i % 2 != 0:\n",
    "            list4.append(list[i])\n",
    "    return(sum(list3),mlp(list4))\n",
    "print(result([1,2,3,4]))\n",
    "\n",
    "\n",
    "\n",
    "\n",
    "\n",
    "\n",
    "\n",
    "\n",
    "\n",
    "\n"
   ]
  },
  {
   "cell_type": "code",
   "execution_count": 2,
   "id": "f44ca2c4",
   "metadata": {},
   "outputs": [
    {
     "name": "stdout",
     "output_type": "stream",
     "text": [
      "1 2 3 4 5 6\n"
     ]
    }
   ],
   "source": [
    "print(1,2,3,4,5,6)"
   ]
  },
  {
   "cell_type": "code",
   "execution_count": null,
   "id": "c6b365f7",
   "metadata": {},
   "outputs": [],
   "source": []
  }
 ],
 "metadata": {
  "kernelspec": {
   "display_name": "Python 3",
   "language": "python",
   "name": "python3"
  },
  "language_info": {
   "codemirror_mode": {
    "name": "ipython",
    "version": 3
   },
   "file_extension": ".py",
   "mimetype": "text/x-python",
   "name": "python",
   "nbconvert_exporter": "python",
   "pygments_lexer": "ipython3",
   "version": "3.8.8"
  }
 },
 "nbformat": 4,
 "nbformat_minor": 5
}
