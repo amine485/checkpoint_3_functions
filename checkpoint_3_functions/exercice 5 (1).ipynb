{
 "cells": [
  {
   "cell_type": "code",
   "execution_count": 1,
   "id": "b68f8f7b",
   "metadata": {},
   "outputs": [
    {
     "name": "stdout",
     "output_type": "stream",
     "text": [
      "enter a sequence of 3 numbers with comma between them : 100,150,180\n",
      "18-22-24\n"
     ]
    }
   ],
   "source": [
    "import math\n",
    "def square_root():\n",
    "    c = 50\n",
    "    h = 30\n",
    "    d = input('enter a sequence of 3 numbers with comma between them : ')\n",
    "    list1 = d.split(',')\n",
    "    list2 = map(float, list1)\n",
    "    list3 = list(list2)\n",
    "    result = ''\n",
    "    for i in range(len(list3)):\n",
    "        if i < len(list3)-1:\n",
    "            Q = round(math.sqrt((c * list3[i] * 2) / h))\n",
    "            result += (str(Q) + '-')\n",
    "        elif i == len(list3) - 1:\n",
    "            Q = round(math.sqrt((c * list3[i] * 2) / h))\n",
    "            result += str(Q)\n",
    "    print(result)\n",
    "square_root()\n",
    "\n",
    "\n",
    "\n",
    "\n"
   ]
  },
  {
   "cell_type": "code",
   "execution_count": null,
   "id": "466c8286",
   "metadata": {},
   "outputs": [],
   "source": []
  }
 ],
 "metadata": {
  "kernelspec": {
   "display_name": "Python 3",
   "language": "python",
   "name": "python3"
  },
  "language_info": {
   "codemirror_mode": {
    "name": "ipython",
    "version": 3
   },
   "file_extension": ".py",
   "mimetype": "text/x-python",
   "name": "python",
   "nbconvert_exporter": "python",
   "pygments_lexer": "ipython3",
   "version": "3.8.8"
  }
 },
 "nbformat": 4,
 "nbformat_minor": 5
}
