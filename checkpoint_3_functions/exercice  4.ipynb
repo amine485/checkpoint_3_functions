{
 "cells": [
  {
   "cell_type": "code",
   "execution_count": 2,
   "id": "58b5f8e2",
   "metadata": {},
   "outputs": [
    {
     "name": "stdout",
     "output_type": "stream",
     "text": [
      "black-green-red-white-yellow\n"
     ]
    }
   ],
   "source": [
    "def result(string):\n",
    "    list = string.split('-')\n",
    "    list.sort()\n",
    "    final_string = ''\n",
    "    for i in range(len(list)):\n",
    "        if i < len(list)-1:\n",
    "            final_string += list[i] +'-'\n",
    "        elif i == len(list)-1 :\n",
    "            final_string += list[i]\n",
    "    return final_string\n",
    "\n",
    "\n",
    "print(result('green-red-yellow-black-white'))\n"
   ]
  },
  {
   "cell_type": "code",
   "execution_count": null,
   "id": "d89f56cd",
   "metadata": {},
   "outputs": [],
   "source": []
  }
 ],
 "metadata": {
  "kernelspec": {
   "display_name": "Python 3",
   "language": "python",
   "name": "python3"
  },
  "language_info": {
   "codemirror_mode": {
    "name": "ipython",
    "version": 3
   },
   "file_extension": ".py",
   "mimetype": "text/x-python",
   "name": "python",
   "nbconvert_exporter": "python",
   "pygments_lexer": "ipython3",
   "version": "3.8.8"
  }
 },
 "nbformat": 4,
 "nbformat_minor": 5
}
